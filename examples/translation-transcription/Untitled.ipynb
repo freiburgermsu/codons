{
 "cells": [
  {
   "cell_type": "code",
   "execution_count": 43,
   "metadata": {
    "scrolled": false
   },
   "outputs": [
    {
     "name": "stdout",
     "output_type": "stream",
     "text": [
      "atgctcaacactgggtataattctaattgaatactatttttcagttagagcgtcgtgtctcttgtacgtctcggtcacaatatacggtttcgtccggtgcgtggcaattcggggcacatc\n",
      "atgtcttt\n",
      ">Protein - 9_residues - 1157.2049_amu\n",
      "MLNTGYNSN*\n",
      "Wall time: 1 ms\n",
      "{'atgctcaacactgggtataattctaattgaatactatttttcagttagagcgtcgtgtctcttgtacgtctcggtcacaatatacggtttcgtccggtgcgtggcaattcggggcacatc': {'codons': ['atg',\n",
      "                                                                                                                                         'ctc',\n",
      "                                                                                                                                         'aac',\n",
      "                                                                                                                                         'act',\n",
      "                                                                                                                                         'ggg',\n",
      "                                                                                                                                         'tat',\n",
      "                                                                                                                                         'aat',\n",
      "                                                                                                                                         'tct',\n",
      "                                                                                                                                         'aat',\n",
      "                                                                                                                                         'tga'],\n",
      "                                                                                                                              'protein': {'mass': 1157.2049,\n",
      "                                                                                                                                          'sequence': 'MLNTGYNSN'}},\n",
      " 'atgtcttt': {'codons': ['atg', 'tct']}}\n"
     ]
    }
   ],
   "source": [
    "from pprint import pprint \n",
    "import re\n",
    "\n",
    "mers_fragment = '''agtgaatagc ttggctatct cacttcccct cgttctcttg cagaactttg attttaacga\n",
    "       61 acttaaataa aagccctgtt gtttagcgta ttgttgcact tgtctggtgg gattgtggca\n",
    "      121 ctaatttgcc tgctcatcta ggcagtggac atatgctcaa cactgggtat aattctaatt\n",
    "      181 gaatactatt tttcagttag agcgtcgtgt ctcttgtacg tctcggtcac aatatacggt\n",
    "      241 ttcgtccggt gcgtggcaat tcggggcaca tcatgtcttt'''\n",
    "\n",
    "%run ../../codons/genes.py\n",
    "\n",
    "# fragment = re.sub('([^atcgu])', '', mers_fragment)\n",
    "# starts = '(?=aug|atg)'\n",
    "# # ends = '|'.join([\"TAA\", \"TAG\", \"TGA\", \"UAA\", \"UAG\", \"UGA\"])\n",
    "\n",
    "# proteins = re.split(starts, fragment)\n",
    "# pprint(proteins)\n",
    "\n",
    "# for protein in proteins:\n",
    "#     codons = [protein[i*3:i*3+3] for i in range(int(len(protein)/3))]\n",
    "#     pprint(codons)\n",
    "\n",
    "# teins = []\n",
    "# for protein in proteins:\n",
    "#     teins.append(re.split(ends, protein, flags = re.IGNORECASE))\n",
    "# pprint(teins)\n",
    "\n",
    "cd = Codons()\n",
    "%time cd.translate(mers_fragment)\n",
    "pprint(cd.genes)"
   ]
  }
 ],
 "metadata": {
  "kernelspec": {
   "display_name": "Python 3",
   "language": "python",
   "name": "python3"
  },
  "language_info": {
   "codemirror_mode": {
    "name": "ipython",
    "version": 3
   },
   "file_extension": ".py",
   "mimetype": "text/x-python",
   "name": "python",
   "nbconvert_exporter": "python",
   "pygments_lexer": "ipython3",
   "version": "3.7.4"
  }
 },
 "nbformat": 4,
 "nbformat_minor": 2
}
