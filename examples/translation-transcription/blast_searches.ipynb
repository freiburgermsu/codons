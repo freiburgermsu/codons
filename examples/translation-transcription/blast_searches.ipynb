{
 "cells": [
  {
   "cell_type": "code",
   "execution_count": null,
   "metadata": {
    "scrolled": false
   },
   "outputs": [
    {
     "name": "stdout",
     "output_type": "stream",
     "text": [
      "The database search for the parameterized protein(s) will complete circa 2022-02-21 15:53:41.840501.\n"
     ]
    }
   ],
   "source": [
    "from pprint import pprint \n",
    "import re\n",
    "%run ../../codons/genes.py\n",
    "\n",
    "protein_fasta_link = 'https://github.com/freiburgermsu/codons/blob/main/examples/MERS/codons-30_proteins/protein_sequence.fasta?raw=true'\n",
    "\n",
    "cd = Codons()\n",
    "%time cd.blast_protein(fasta_link = protein_fasta_link)"
   ]
  },
  {
   "cell_type": "code",
   "execution_count": null,
   "metadata": {},
   "outputs": [],
   "source": []
  }
 ],
 "metadata": {
  "kernelspec": {
   "display_name": "Python 3",
   "language": "python",
   "name": "python3"
  },
  "language_info": {
   "codemirror_mode": {
    "name": "ipython",
    "version": 3
   },
   "file_extension": ".py",
   "mimetype": "text/x-python",
   "name": "python",
   "nbconvert_exporter": "python",
   "pygments_lexer": "ipython3",
   "version": "3.7.4"
  }
 },
 "nbformat": 4,
 "nbformat_minor": 2
}
