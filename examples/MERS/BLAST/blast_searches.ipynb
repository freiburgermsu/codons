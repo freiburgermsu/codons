{
 "cells": [
  {
   "cell_type": "markdown",
   "metadata": {},
   "source": [
    "# BLASTp"
   ]
  },
  {
   "cell_type": "code",
   "execution_count": 2,
   "metadata": {
    "scrolled": false
   },
   "outputs": [
    {
     "name": "stdout",
     "output_type": "stream",
     "text": [
      "The database search for the parameterized protein(s) will complete circa 2022-02-22 17:49:07.098515.\n",
      "Completed searches: 29/29\t2022-02-22 18:04:38.039798Wall time: 4h 28min 22s    \n"
     ]
    },
    {
     "data": {
      "text/plain": [
       "[<_io.StringIO at 0x2172f61ec18>,\n",
       " <_io.StringIO at 0x2172f7a78b8>,\n",
       " <_io.StringIO at 0x217f9944318>,\n",
       " <_io.StringIO at 0x217f9838828>,\n",
       " <_io.StringIO at 0x217f983e288>,\n",
       " <_io.StringIO at 0x217f983e318>,\n",
       " <_io.StringIO at 0x217f983e4c8>,\n",
       " <_io.StringIO at 0x217f983ea68>,\n",
       " <_io.StringIO at 0x217f983e9d8>,\n",
       " <_io.StringIO at 0x217f983e438>,\n",
       " <_io.StringIO at 0x217f983e828>,\n",
       " <_io.StringIO at 0x217f983e168>,\n",
       " <_io.StringIO at 0x217f983ec18>,\n",
       " <_io.StringIO at 0x217f983eb88>,\n",
       " <_io.StringIO at 0x217f983e8b8>,\n",
       " <_io.StringIO at 0x217f983eca8>,\n",
       " <_io.StringIO at 0x217f983ed38>,\n",
       " <_io.StringIO at 0x217f983e0d8>,\n",
       " <_io.StringIO at 0x217f983ee58>,\n",
       " <_io.StringIO at 0x217f983eaf8>,\n",
       " <_io.StringIO at 0x217f983ef78>,\n",
       " <_io.StringIO at 0x217f983edc8>,\n",
       " <_io.StringIO at 0x217f983eee8>,\n",
       " <_io.StringIO at 0x217f9966048>,\n",
       " <_io.StringIO at 0x217f9966168>,\n",
       " <_io.StringIO at 0x217f99661f8>,\n",
       " <_io.StringIO at 0x217f9966288>,\n",
       " <_io.StringIO at 0x217f99660d8>,\n",
       " <_io.StringIO at 0x217f99663a8>]"
      ]
     },
     "execution_count": 2,
     "metadata": {},
     "output_type": "execute_result"
    }
   ],
   "source": [
    "from pprint import pprint \n",
    "import re\n",
    "%run ../../../codons/genes.py\n",
    "\n",
    "protein_fasta_link = 'https://github.com/freiburgermsu/codons/blob/main/examples/MERS/central_dogma/codons-30_proteins/protein_sequence.fasta?raw=true'\n",
    "\n",
    "cd = Codons()\n",
    "%time cd.blast_protein(fasta_link = protein_fasta_link)"
   ]
  },
  {
   "cell_type": "markdown",
   "metadata": {},
   "source": [
    "# BLASTn"
   ]
  },
  {
   "cell_type": "code",
   "execution_count": 3,
   "metadata": {},
   "outputs": [
    {
     "name": "stdout",
     "output_type": "stream",
     "text": [
      "The database search for the parameterized genetic sequence will complete circa 2022-02-23 03:36:45.639851.\n",
      "Section 1/10 is completed:\t2022-02-22 22:58:07.953183\n",
      "Section 2/10 is completed:\t2022-02-22 23:00:26.873935\n",
      "Section 3/10 is completed:\t2022-02-22 23:01:47.639691\n",
      "Section 4/10 is completed:\t2022-02-22 23:03:07.989206\n",
      "Section 5/10 is completed:\t2022-02-22 23:06:27.821892\n",
      "Section 6/10 is completed:\t2022-02-22 23:35:47.876427\n",
      "Section 7/10 is completed:\t2022-02-22 23:39:06.891183\n",
      "Section 8/10 is completed:\t2022-02-22 23:41:26.886008\n",
      "Section 9/10 is completed:\t2022-02-22 23:44:47.924515\n",
      "Section 10/10 is completed:\t2022-02-23 00:13:06.793271\n"
     ]
    }
   ],
   "source": [
    "from pprint import pprint \n",
    "import re\n",
    "%run ../../../codons/genes.py\n",
    "\n",
    "gene_fasta_link = 'https://github.com/freiburgermsu/codons/blob/main/examples/MERS/central_dogma/codons-DNA_to_RNA/genetic_sequence.fasta?raw=true'\n",
    "\n",
    "cd = Codons()\n",
    "cd.blast_nucleotide(fasta_link = gene_fasta_link)"
   ]
  }
 ],
 "metadata": {
  "kernelspec": {
   "display_name": "Python 3",
   "language": "python",
   "name": "python3"
  }
 },
 "nbformat": 4,
 "nbformat_minor": 2
}
